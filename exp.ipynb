{
 "cells": [
  {
   "cell_type": "code",
   "outputs": [],
   "source": [
    "import cv2\n",
    "import numpy as np\n",
    "import matplotlib.pyplot as plt"
   ],
   "metadata": {
    "collapsed": false
   },
   "id": "b329cc7ee43b431e",
   "execution_count": null
  },
  {
   "cell_type": "code",
   "outputs": [],
   "source": [
    "\n",
    "image_path = 'image-samples/input/sample/page_2_gray.png'   \n",
    "image = cv2.imread(image_path)\n",
    "\n",
    "\n",
    "gray_image = cv2.cvtColor(image, cv2.COLOR_BGR2GRAY)\n",
    "\n",
    "\n",
    "_, thresholded_image = cv2.threshold(gray_image, 127, 255, cv2.THRESH_BINARY_INV)\n",
    "\n",
    "plt.figure(figsize=(10, 6))\n",
    "plt.imshow(thresholded_image, cmap='gray')\n",
    "plt.axis('off')\n",
    "plt.title('Inverted Image with Threshold')\n",
    "plt.show()"
   ],
   "metadata": {
    "collapsed": false
   },
   "id": "db0e39231af17258",
   "execution_count": null
  },
  {
   "cell_type": "code",
   "outputs": [],
   "source": [
    "kernel = cv2.getStructuringElement(cv2.MORPH_RECT, (1250, 100))  # Width: 30, Height: 3\n",
    "\n",
    "closed_image = cv2.morphologyEx(thresholded_image, cv2.MORPH_CLOSE, kernel)\n",
    "\n",
    "plt.figure(figsize=(10, 6))\n",
    "plt.imshow(closed_image, cmap='gray')\n",
    "plt.axis('off')  # Hide axis\n",
    "plt.title('Morphological Closing on Inverted Image')\n",
    "plt.show()\n"
   ],
   "metadata": {
    "collapsed": false
   },
   "id": "8c2510ddf76c794c",
   "execution_count": null
  },
  {
   "cell_type": "code",
   "outputs": [],
   "source": [
    "contour_image = np.zeros_like(closed_image)\n",
    "\n",
    "cv2.drawContours(contour_image, contours, -1, (255), thickness=2)\n",
    "\n",
    "plt.figure(figsize=(12, 6))\n",
    "\n",
    "plt.subplot(1, 2, 1)\n",
    "plt.imshow(closed_image, cmap='gray')\n",
    "plt.axis('off') \n",
    "plt.title('Closed Image')\n",
    "\n",
    "plt.subplot(1, 2, 2)\n",
    "plt.imshow(contour_image, cmap='gray')\n",
    "plt.axis('off') \n",
    "plt.title('Contours of Text Lines')\n",
    "\n",
    "plt.show()\n"
   ],
   "metadata": {
    "collapsed": false
   },
   "id": "f9799cf59094d482"
  },
  {
   "cell_type": "code",
   "outputs": [],
   "source": [
    "original_image = cv2.imread(image_path)\n",
    "\n",
    "cropped_images = []\n",
    "\n",
    "image_with_bboxes = original_image.copy()\n",
    "\n",
    "for contour in contours:\n",
    "    x, y, w, h = cv2.boundingRect(contour)\n",
    "    cropped_image = original_image[y:y+h, x:x+w]\n",
    "    cropped_images.append(cropped_image)\n",
    "\n",
    "    cv2.rectangle(image_with_bboxes, (x, y), (x + w, y + h), (0, 255, 0), 2)  # Green bounding box\n",
    "\n",
    "print(f'Number of contours detected: {len(contours)}')\n",
    "\n",
    "plt.figure(figsize=(12, 6))\n",
    "plt.imshow(cv2.cvtColor(image_with_bboxes, cv2.COLOR_BGR2RGB))\n",
    "plt.axis('off')  # Hide axis\n",
    "plt.title('Original Image with Bounding Boxes')\n",
    "plt.show()\n",
    "\n",
    "plt.figure(figsize=(12, 6))\n",
    "\n",
    "for i, cropped in enumerate(cropped_images):\n",
    "    plt.subplot(1, len(cropped_images), i + 1)\n",
    "    plt.imshow(cv2.cvtColor(cropped, cv2.COLOR_BGR2RGB))\n",
    "    plt.axis('off')  # Hide axis\n",
    "    plt.title(f'Cropped {i+1}')\n",
    "\n",
    "plt.show()"
   ],
   "metadata": {
    "collapsed": false
   },
   "id": "9fe165b4f6d3a75a",
   "execution_count": null
  },
  {
   "cell_type": "code",
   "outputs": [],
   "source": [],
   "metadata": {
    "collapsed": false
   },
   "id": "9bcb7bce37ce244f"
  }
 ],
 "metadata": {
  "kernelspec": {
   "display_name": "Python 3",
   "language": "python",
   "name": "python3"
  },
  "language_info": {
   "codemirror_mode": {
    "name": "ipython",
    "version": 2
   },
   "file_extension": ".py",
   "mimetype": "text/x-python",
   "name": "python",
   "nbconvert_exporter": "python",
   "pygments_lexer": "ipython2",
   "version": "2.7.6"
  }
 },
 "nbformat": 4,
 "nbformat_minor": 5
}
